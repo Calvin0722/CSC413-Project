{
  "nbformat": 4,
  "nbformat_minor": 0,
  "metadata": {
    "colab": {
      "name": "DepthwiseAndNormalConvolution-CIFAR10.ipynb",
      "provenance": [],
      "collapsed_sections": [],
      "toc_visible": true
    },
    "kernelspec": {
      "display_name": "Python 3",
      "name": "python3"
    },
    "language_info": {
      "name": "python"
    },
    "widgets": {
      "application/vnd.jupyter.widget-state+json": {
        "5eb0150f468c4d9b98cdaa5acb5cbee4": {
          "model_module": "@jupyter-widgets/controls",
          "model_name": "HBoxModel",
          "state": {
            "_view_name": "HBoxView",
            "_dom_classes": [],
            "_model_name": "HBoxModel",
            "_view_module": "@jupyter-widgets/controls",
            "_model_module_version": "1.5.0",
            "_view_count": null,
            "_view_module_version": "1.5.0",
            "box_style": "",
            "layout": "IPY_MODEL_ca9e0f50fa6c4c31ace41b49de2d8531",
            "_model_module": "@jupyter-widgets/controls",
            "children": [
              "IPY_MODEL_773702595ab048ea8dbc157822cb8d63",
              "IPY_MODEL_e3b4dec65c0b4597a0e10375e9f74ba6"
            ]
          }
        },
        "ca9e0f50fa6c4c31ace41b49de2d8531": {
          "model_module": "@jupyter-widgets/base",
          "model_name": "LayoutModel",
          "state": {
            "_view_name": "LayoutView",
            "grid_template_rows": null,
            "right": null,
            "justify_content": null,
            "_view_module": "@jupyter-widgets/base",
            "overflow": null,
            "_model_module_version": "1.2.0",
            "_view_count": null,
            "flex_flow": null,
            "width": null,
            "min_width": null,
            "border": null,
            "align_items": null,
            "bottom": null,
            "_model_module": "@jupyter-widgets/base",
            "top": null,
            "grid_column": null,
            "overflow_y": null,
            "overflow_x": null,
            "grid_auto_flow": null,
            "grid_area": null,
            "grid_template_columns": null,
            "flex": null,
            "_model_name": "LayoutModel",
            "justify_items": null,
            "grid_row": null,
            "max_height": null,
            "align_content": null,
            "visibility": null,
            "align_self": null,
            "height": null,
            "min_height": null,
            "padding": null,
            "grid_auto_rows": null,
            "grid_gap": null,
            "max_width": null,
            "order": null,
            "_view_module_version": "1.2.0",
            "grid_template_areas": null,
            "object_position": null,
            "object_fit": null,
            "grid_auto_columns": null,
            "margin": null,
            "display": null,
            "left": null
          }
        },
        "773702595ab048ea8dbc157822cb8d63": {
          "model_module": "@jupyter-widgets/controls",
          "model_name": "FloatProgressModel",
          "state": {
            "_view_name": "ProgressView",
            "style": "IPY_MODEL_8683b5816e5140fba17958168151c6d3",
            "_dom_classes": [],
            "description": "",
            "_model_name": "FloatProgressModel",
            "bar_style": "success",
            "max": 170498071,
            "_view_module": "@jupyter-widgets/controls",
            "_model_module_version": "1.5.0",
            "value": 170498071,
            "_view_count": null,
            "_view_module_version": "1.5.0",
            "orientation": "horizontal",
            "min": 0,
            "description_tooltip": null,
            "_model_module": "@jupyter-widgets/controls",
            "layout": "IPY_MODEL_276a5ae40e3e4c6a986829aa576fde03"
          }
        },
        "e3b4dec65c0b4597a0e10375e9f74ba6": {
          "model_module": "@jupyter-widgets/controls",
          "model_name": "HTMLModel",
          "state": {
            "_view_name": "HTMLView",
            "style": "IPY_MODEL_3be9bbf4ebf148999b6ef5aa92521897",
            "_dom_classes": [],
            "description": "",
            "_model_name": "HTMLModel",
            "placeholder": "​",
            "_view_module": "@jupyter-widgets/controls",
            "_model_module_version": "1.5.0",
            "value": " 170499072/? [02:54&lt;00:00, 977609.49it/s]",
            "_view_count": null,
            "_view_module_version": "1.5.0",
            "description_tooltip": null,
            "_model_module": "@jupyter-widgets/controls",
            "layout": "IPY_MODEL_306e2dca072549ff9afadb45134c3953"
          }
        },
        "8683b5816e5140fba17958168151c6d3": {
          "model_module": "@jupyter-widgets/controls",
          "model_name": "ProgressStyleModel",
          "state": {
            "_view_name": "StyleView",
            "_model_name": "ProgressStyleModel",
            "description_width": "initial",
            "_view_module": "@jupyter-widgets/base",
            "_model_module_version": "1.5.0",
            "_view_count": null,
            "_view_module_version": "1.2.0",
            "bar_color": null,
            "_model_module": "@jupyter-widgets/controls"
          }
        },
        "276a5ae40e3e4c6a986829aa576fde03": {
          "model_module": "@jupyter-widgets/base",
          "model_name": "LayoutModel",
          "state": {
            "_view_name": "LayoutView",
            "grid_template_rows": null,
            "right": null,
            "justify_content": null,
            "_view_module": "@jupyter-widgets/base",
            "overflow": null,
            "_model_module_version": "1.2.0",
            "_view_count": null,
            "flex_flow": null,
            "width": null,
            "min_width": null,
            "border": null,
            "align_items": null,
            "bottom": null,
            "_model_module": "@jupyter-widgets/base",
            "top": null,
            "grid_column": null,
            "overflow_y": null,
            "overflow_x": null,
            "grid_auto_flow": null,
            "grid_area": null,
            "grid_template_columns": null,
            "flex": null,
            "_model_name": "LayoutModel",
            "justify_items": null,
            "grid_row": null,
            "max_height": null,
            "align_content": null,
            "visibility": null,
            "align_self": null,
            "height": null,
            "min_height": null,
            "padding": null,
            "grid_auto_rows": null,
            "grid_gap": null,
            "max_width": null,
            "order": null,
            "_view_module_version": "1.2.0",
            "grid_template_areas": null,
            "object_position": null,
            "object_fit": null,
            "grid_auto_columns": null,
            "margin": null,
            "display": null,
            "left": null
          }
        },
        "3be9bbf4ebf148999b6ef5aa92521897": {
          "model_module": "@jupyter-widgets/controls",
          "model_name": "DescriptionStyleModel",
          "state": {
            "_view_name": "StyleView",
            "_model_name": "DescriptionStyleModel",
            "description_width": "",
            "_view_module": "@jupyter-widgets/base",
            "_model_module_version": "1.5.0",
            "_view_count": null,
            "_view_module_version": "1.2.0",
            "_model_module": "@jupyter-widgets/controls"
          }
        },
        "306e2dca072549ff9afadb45134c3953": {
          "model_module": "@jupyter-widgets/base",
          "model_name": "LayoutModel",
          "state": {
            "_view_name": "LayoutView",
            "grid_template_rows": null,
            "right": null,
            "justify_content": null,
            "_view_module": "@jupyter-widgets/base",
            "overflow": null,
            "_model_module_version": "1.2.0",
            "_view_count": null,
            "flex_flow": null,
            "width": null,
            "min_width": null,
            "border": null,
            "align_items": null,
            "bottom": null,
            "_model_module": "@jupyter-widgets/base",
            "top": null,
            "grid_column": null,
            "overflow_y": null,
            "overflow_x": null,
            "grid_auto_flow": null,
            "grid_area": null,
            "grid_template_columns": null,
            "flex": null,
            "_model_name": "LayoutModel",
            "justify_items": null,
            "grid_row": null,
            "max_height": null,
            "align_content": null,
            "visibility": null,
            "align_self": null,
            "height": null,
            "min_height": null,
            "padding": null,
            "grid_auto_rows": null,
            "grid_gap": null,
            "max_width": null,
            "order": null,
            "_view_module_version": "1.2.0",
            "grid_template_areas": null,
            "object_position": null,
            "object_fit": null,
            "grid_auto_columns": null,
            "margin": null,
            "display": null,
            "left": null
          }
        }
      }
    },
    "accelerator": "GPU"
  },
  "cells": [
    {
      "cell_type": "code",
      "metadata": {
        "id": "ZwO-EzK_0a2f"
      },
      "source": [
        "import torch\n",
        "from torch import nn\n",
        "import matplotlib\n",
        "import matplotlib.pyplot as plt\n",
        "import torch.nn.functional as F\n",
        "import torch.optim as optim\n",
        "\n",
        "import torchvision\n",
        "import torchvision.transforms as transforms\n",
        "\n",
        "import time\n",
        "\n",
        "import scipy.misc\n",
        "\n",
        "import os\n",
        "import pickle\n",
        "import sys\n",
        "\n",
        "import numpy as np\n",
        "from PIL import Image\n",
        "from six.moves.urllib.request import urlretrieve"
      ],
      "execution_count": 1,
      "outputs": []
    },
    {
      "cell_type": "markdown",
      "metadata": {
        "id": "L2g_Zm7Hnssk"
      },
      "source": [
        "# Helper"
      ]
    },
    {
      "cell_type": "markdown",
      "metadata": {
        "id": "VKzzXqz4nwRN"
      },
      "source": [
        "### Training\n",
        "Modified based on the training loop of: https://colab.research.google.com/github/csc413-uoft/2021/blob/master/assets/assignments/a2-cnn.ipynb"
      ]
    },
    {
      "cell_type": "code",
      "metadata": {
        "id": "mQvS8KKHkK-v"
      },
      "source": [
        "def evaluate(model, loader, criterion, gpu):\n",
        "  model.eval()\n",
        "  correct = 0.\n",
        "  total = 0.\n",
        "  val_loss = 0.\n",
        "  for i, (inputs, labels) in enumerate(loader, 0):\n",
        "    with torch.no_grad():\n",
        "      if gpu:\n",
        "        inputs = inputs.cuda()\n",
        "        labels = labels.cuda()\n",
        "      pred = model(inputs)\n",
        "      xentropy_loss = criterion(pred, labels)\n",
        "      val_loss += xentropy_loss.item()\n",
        "\n",
        "    pred = torch.max(pred.data, 1)[1]\n",
        "    total += labels.size(0)\n",
        "    correct += (pred == labels).sum().item()\n",
        "\n",
        "  val_acc = correct / total\n",
        "  val_loss = val_loss / i \n",
        "  model.train()\n",
        "\n",
        "  return val_acc * 100, val_loss"
      ],
      "execution_count": 2,
      "outputs": []
    },
    {
      "cell_type": "code",
      "metadata": {
        "id": "f-kcM_dIn3Zu"
      },
      "source": [
        "class AttrDict(dict):\n",
        "    def __init__(self, *args, **kwargs):\n",
        "        super(AttrDict, self).__init__(*args, **kwargs)\n",
        "        self.__dict__ = self\n",
        "\n",
        "\n",
        "def train(args, cnn):\n",
        "    # Save directory\n",
        "    save_dir = \"outputs/\" + args.experiment_name\n",
        "\n",
        "    # LOSS FUNCTION\n",
        "    criterion = nn.CrossEntropyLoss()\n",
        "\n",
        "    # DATA\n",
        "    print(\"Loading data...\")\n",
        "    trainloader = torch.utils.data.DataLoader(\n",
        "        args.train_set, batch_size=args.batch_size, \n",
        "        shuffle=True, num_workers=2)\n",
        "    validloader = torch.utils.data.DataLoader(\n",
        "        args.valid_set, batch_size=args.batch_size, \n",
        "        shuffle=False, num_workers=2)\n",
        "\n",
        "    # Create the outputs folder if not created already\n",
        "    if not os.path.exists(save_dir):\n",
        "        os.makedirs(save_dir)\n",
        "\n",
        "    device = \"cpu\"\n",
        "    if args.gpu:\n",
        "        if torch.cuda.is_available():\n",
        "            print(\"Using cuda\")\n",
        "            device = torch.device(\"cuda\")\n",
        "\n",
        "    print(\"Beginning training ...\")\n",
        "    cnn.to(device)\n",
        "    train_start = time.time()\n",
        "    train_losses = []\n",
        "    valid_losses = []\n",
        "    valid_accs = []\n",
        "    for epoch in range(args.epochs):\n",
        "        optimizer = optim.SGD(\n",
        "            model.parameters(), lr=args.initial_lr * (args.lr_decay ** epoch), \n",
        "            momentum=0.9, weight_decay=args.weight_decay, nesterov=True)\n",
        "        epoch_start = time.time()\n",
        "        # Train the Model\n",
        "        cnn.train()  # Change model to 'train' mode\n",
        "        losses = []\n",
        "        for i, (images, labels) in enumerate(trainloader, 0):\n",
        "            images = images.to(device)\n",
        "            labels = labels.to(device)\n",
        "            # Forward + Backward + Optimize\n",
        "            optimizer.zero_grad()\n",
        "            outputs = cnn(images)\n",
        "            loss = criterion(outputs, labels)\n",
        "            loss.backward()\n",
        "            optimizer.step()\n",
        "            losses.append(loss.data.item())\n",
        "\n",
        "        # Print training info\n",
        "        avg_loss = np.mean(losses)\n",
        "        train_losses.append(avg_loss)\n",
        "        epoch_time = time.time() - epoch_start\n",
        "        print(\n",
        "            \"Epoch [%d/%d], Loss: %.4f, Epoch Time (s): %.2f\"\n",
        "            % (epoch + 1, args.epochs, avg_loss, epoch_time)\n",
        "        )\n",
        "\n",
        "        # Evaluate the model\n",
        "        cnn.eval()  # Change model to 'eval' mode (BN uses moving mean/var).\n",
        "        val_start = time.time()\n",
        "        val_acc, val_loss = evaluate(cnn, validloader, criterion, args[\"gpu\"])\n",
        "\n",
        "        time_elapsed = time.time() - val_start\n",
        "        valid_losses.append(val_loss)\n",
        "        valid_accs.append(val_acc)\n",
        "        print(\n",
        "            \"Epoch [%d/%d], Val Loss: %.4f, Val Acc: %.3f%%, Validation Time: %.2f\"\n",
        "            % (epoch + 1, args.epochs, val_loss, val_acc, time_elapsed)\n",
        "        )\n",
        "\n",
        "    # Print Total Training Time\n",
        "    print(\n",
        "        \"Total Training Time: %.2f\"\n",
        "        % (time.time() - train_start)\n",
        "    )\n",
        "\n",
        "    # Plot training curve\n",
        "    plt.figure()\n",
        "    plt.plot(train_losses, \"r,-\", label=\"Train\")\n",
        "    plt.plot(valid_losses, \"g,-\", label=\"Validation\")\n",
        "    plt.legend()\n",
        "    plt.title(\"Loss\")\n",
        "    plt.xlabel(\"Epochs\")\n",
        "    plt.savefig(save_dir + \"/training_curve.png\")\n",
        "\n",
        "    # Plot validation accuracy\n",
        "    plt.figure()\n",
        "    plt.plot(valid_accs, \"g,-\", label=\"Validation\")\n",
        "    plt.legend()\n",
        "    plt.title(\"Accuracy\")\n",
        "    plt.xlabel(\"Epochs\")\n",
        "    plt.savefig(save_dir + \"/accuracy_curve.png\")\n",
        "\n",
        "    if args.checkpoint:\n",
        "        print(\"Saving model...\")\n",
        "        torch.save(cnn.state_dict(), args.checkpoint)\n",
        "\n",
        "    return cnn"
      ],
      "execution_count": 3,
      "outputs": []
    },
    {
      "cell_type": "markdown",
      "metadata": {
        "id": "GoEBwHM0pltF"
      },
      "source": [
        "### Data Loader"
      ]
    },
    {
      "cell_type": "code",
      "metadata": {
        "colab": {
          "base_uri": "https://localhost:8080/",
          "height": 119,
          "referenced_widgets": [
            "5eb0150f468c4d9b98cdaa5acb5cbee4",
            "ca9e0f50fa6c4c31ace41b49de2d8531",
            "773702595ab048ea8dbc157822cb8d63",
            "e3b4dec65c0b4597a0e10375e9f74ba6",
            "8683b5816e5140fba17958168151c6d3",
            "276a5ae40e3e4c6a986829aa576fde03",
            "3be9bbf4ebf148999b6ef5aa92521897",
            "306e2dca072549ff9afadb45134c3953"
          ]
        },
        "id": "wNbzH32_pn37",
        "outputId": "b65defde-6ac6-4f52-d096-049c76462271"
      },
      "source": [
        "# https://colab.research.google.com/github/pytorch/tutorials/blob/gh-pages/_downloads/17a7c7cb80916fcdf921097825a0f562/cifar10_tutorial.ipynb#scrollTo=WR_b-BQ7nupu\n",
        "# Transform for MNIST\n",
        "# transform = transforms.Compose(\n",
        "#     [transforms.ToTensor(),\n",
        "#      transforms.Normalize((0.1307,),(0.3081,))])\n",
        "\n",
        "# Transform for CIFAR\n",
        "transform = transforms.Compose(\n",
        "    [transforms.ToTensor(),\n",
        "     transforms.Normalize(mean=[0.485, 0.456, 0.406], std=[0.229, 0.224, 0.225])\n",
        "     ])\n",
        "\n",
        "# trainset = torchvision.datasets.CIFAR100(root='./data', train=True,\n",
        "#                                         download=True, transform=transform)\n",
        "# trainset = torchvision.datasets.MNIST(root='./data', train=True,\n",
        "#                                         download=True, transform=transform)\n",
        "trainset = torchvision.datasets.CIFAR10(root='./data', train=True,\n",
        "                                        download=True, transform=transform)\n",
        "trainloader = torch.utils.data.DataLoader(trainset, batch_size=256,\n",
        "                                          shuffle=True, num_workers=2)\n",
        "\n",
        "# validset = torchvision.datasets.CIFAR100(root='./data', train=False,\n",
        "#                                        download=True, transform=transform)\n",
        "# validset = torchvision.datasets.MNIST(root='./data', train=False,\n",
        "#                                        download=True, transform=transform)\n",
        "validset = torchvision.datasets.CIFAR10(root='./data', train=False,\n",
        "                                       download=True, transform=transform)\n",
        "validloader = torch.utils.data.DataLoader(validset, batch_size=256,\n",
        "                                         shuffle=False, num_workers=2)"
      ],
      "execution_count": 4,
      "outputs": [
        {
          "output_type": "stream",
          "text": [
            "Downloading https://www.cs.toronto.edu/~kriz/cifar-10-python.tar.gz to ./data/cifar-10-python.tar.gz\n"
          ],
          "name": "stdout"
        },
        {
          "output_type": "display_data",
          "data": {
            "application/vnd.jupyter.widget-view+json": {
              "model_id": "5eb0150f468c4d9b98cdaa5acb5cbee4",
              "version_minor": 0,
              "version_major": 2
            },
            "text/plain": [
              "HBox(children=(FloatProgress(value=0.0, max=170498071.0), HTML(value='')))"
            ]
          },
          "metadata": {
            "tags": []
          }
        },
        {
          "output_type": "stream",
          "text": [
            "\n",
            "Extracting ./data/cifar-10-python.tar.gz to ./data\n",
            "Files already downloaded and verified\n"
          ],
          "name": "stdout"
        }
      ]
    },
    {
      "cell_type": "markdown",
      "metadata": {
        "id": "g4zQ1U7ontE2"
      },
      "source": [
        "# Custom Convolution Layers"
      ]
    },
    {
      "cell_type": "code",
      "metadata": {
        "id": "GMuApHLD1u2b"
      },
      "source": [
        "# Depth Wise Separable Convolution\n",
        "# https://discuss.pytorch.org/t/how-to-modify-a-conv2d-to-depthwise-separable-convolution/15843/6\n",
        "class conv_dw(nn.Module):\n",
        "  def __init__(self, in_channels, out_channels, stride, kernel_size=3, bias=True):\n",
        "    super(conv_dw, self).__init__()\n",
        "    self.depthwise = nn.Conv2d(\n",
        "        in_channels, \n",
        "        in_channels, \n",
        "        stride=stride,\n",
        "        kernel_size=kernel_size, \n",
        "        padding=1, \n",
        "        groups=in_channels,\n",
        "        bias=bias\n",
        "        )\n",
        "    self.pointwise = nn.Conv2d(\n",
        "        in_channels, \n",
        "        out_channels, \n",
        "        kernel_size=1,\n",
        "        bias=bias\n",
        "        )\n",
        "    self.ReLU = nn.ReLU()\n",
        "    self.bn1 = nn.BatchNorm2d(in_channels)\n",
        "    self.bn2 = nn.BatchNorm2d(out_channels)\n",
        "\n",
        "  def forward(self, x):\n",
        "    out = self.depthwise(x)\n",
        "    out = self.bn1(out)\n",
        "    out = self.ReLU(out)\n",
        "    out = self.pointwise(out)\n",
        "    out = self.bn2(out)\n",
        "    out = self.ReLU(out)\n",
        "    return out"
      ],
      "execution_count": 5,
      "outputs": []
    },
    {
      "cell_type": "code",
      "metadata": {
        "id": "tFODKICwyFV3"
      },
      "source": [
        "# Convolution followed by batch nomrlaization and ReLU\n",
        "class conv_bn(nn.Module):\n",
        "  def __init__(self, in_channels, out_channels, stride, kernel_size=3, bias=True):\n",
        "    super(conv_bn, self).__init__()\n",
        "    self.conv = nn.Conv2d(\n",
        "        in_channels, out_channels, kernel_size, stride, padding=1, bias=bias)\n",
        "    self.ReLU = nn.ReLU()\n",
        "    self.bn = nn.BatchNorm2d(out_channels)\n",
        "\n",
        "  def forward(self, x):\n",
        "    out = self.conv(x)\n",
        "    out = self.bn(out)\n",
        "    out = self.ReLU(out)\n",
        "    return out"
      ],
      "execution_count": 6,
      "outputs": []
    },
    {
      "cell_type": "code",
      "metadata": {
        "id": "gBdalLBbsp_P"
      },
      "source": [
        "# Transposed Convolution followed by batch nomrlaization and ReLU\n",
        "class conv_transpose_bn(nn.Module):\n",
        "  def __init__(self, in_channels, out_channels, stride, kernel_size=3, bias=True):\n",
        "    super(conv_transpose_bn, self).__init__()\n",
        "    self.conv = nn.ConvTranspose2d(\n",
        "        in_channels, out_channels, stride=2, kernel_size=kernel_size, \n",
        "        padding=1, output_padding=1, bias=bias)\n",
        "    self.ReLU = nn.ReLU()\n",
        "    self.bn = nn.BatchNorm2d(out_channels)\n",
        "\n",
        "  def forward(self, x):\n",
        "    out = self.conv(x)\n",
        "    out = self.bn(out)\n",
        "    out = self.ReLU(out)\n",
        "    return out"
      ],
      "execution_count": 7,
      "outputs": []
    },
    {
      "cell_type": "markdown",
      "metadata": {
        "id": "813tlX3SpSjX"
      },
      "source": [
        "# Depthwise Convolution Network"
      ]
    },
    {
      "cell_type": "code",
      "metadata": {
        "id": "nu_lgRb41JFs"
      },
      "source": [
        "class DepthwiseConvNet(nn.Module):\n",
        "    def __init__(self, in_channel, out_classes):\n",
        "        super(DepthwiseConvNet, self).__init__()\n",
        "        \n",
        "        self.conv_model = nn.Sequential(\n",
        "            conv_transpose_bn(in_channel, 32, 2),\n",
        "            conv_dw(32, 64, 1),\n",
        "            conv_dw(64, 128, 2),\n",
        "            conv_dw(128, 128, 1),\n",
        "            conv_dw(128, 256, 2),\n",
        "            conv_dw(256, 256, 1),\n",
        "            conv_dw(256, 512, 2),\n",
        "            conv_dw(512, 512, 1),\n",
        "            conv_dw(512, 512, 1),\n",
        "            conv_dw(512, 512, 1),\n",
        "            conv_dw(512, 512, 1),\n",
        "            conv_dw(512, 512, 1),\n",
        "            conv_dw(512, 1024, 2),\n",
        "            conv_dw(1024, 1024, 1),\n",
        "            nn.AdaptiveAvgPool2d(1)\n",
        "        )\n",
        "\n",
        "        self.classifer = nn.Sequential(\n",
        "            nn.Linear(1024, out_classes),\n",
        "        )\n",
        "      \n",
        "\n",
        "    def forward(self, x):\n",
        "        out = self.conv_model(x)\n",
        "        out = torch.reshape(out, (-1, 1024))\n",
        "        out = self.classifer(out)\n",
        "        return out\n"
      ],
      "execution_count": 8,
      "outputs": []
    },
    {
      "cell_type": "code",
      "metadata": {
        "colab": {
          "base_uri": "https://localhost:8080/"
        },
        "id": "2_-H1cw04-AN",
        "outputId": "a44774d7-9c4d-4f5a-9d9e-2d611401c2ee"
      },
      "source": [
        "if torch.cuda.is_available():\n",
        "    print(\"Using cuda\")\n",
        "    device = torch.device(\"cuda\")\n",
        "else:\n",
        "    device = \"cpu\"\n",
        "\n",
        "criterion = nn.CrossEntropyLoss()\n",
        "criterion.to(device)\n",
        "model = DepthwiseConvNet(3, 10)\n",
        "\n",
        "model.to(device)\n",
        "model.train()"
      ],
      "execution_count": 9,
      "outputs": [
        {
          "output_type": "stream",
          "text": [
            "Using cuda\n"
          ],
          "name": "stdout"
        },
        {
          "output_type": "execute_result",
          "data": {
            "text/plain": [
              "DepthwiseConvNet(\n",
              "  (conv_model): Sequential(\n",
              "    (0): conv_transpose_bn(\n",
              "      (conv): ConvTranspose2d(3, 32, kernel_size=(3, 3), stride=(2, 2), padding=(1, 1), output_padding=(1, 1))\n",
              "      (ReLU): ReLU()\n",
              "      (bn): BatchNorm2d(32, eps=1e-05, momentum=0.1, affine=True, track_running_stats=True)\n",
              "    )\n",
              "    (1): conv_dw(\n",
              "      (depthwise): Conv2d(32, 32, kernel_size=(3, 3), stride=(1, 1), padding=(1, 1), groups=32)\n",
              "      (pointwise): Conv2d(32, 64, kernel_size=(1, 1), stride=(1, 1))\n",
              "      (ReLU): ReLU()\n",
              "      (bn1): BatchNorm2d(32, eps=1e-05, momentum=0.1, affine=True, track_running_stats=True)\n",
              "      (bn2): BatchNorm2d(64, eps=1e-05, momentum=0.1, affine=True, track_running_stats=True)\n",
              "    )\n",
              "    (2): conv_dw(\n",
              "      (depthwise): Conv2d(64, 64, kernel_size=(3, 3), stride=(2, 2), padding=(1, 1), groups=64)\n",
              "      (pointwise): Conv2d(64, 128, kernel_size=(1, 1), stride=(1, 1))\n",
              "      (ReLU): ReLU()\n",
              "      (bn1): BatchNorm2d(64, eps=1e-05, momentum=0.1, affine=True, track_running_stats=True)\n",
              "      (bn2): BatchNorm2d(128, eps=1e-05, momentum=0.1, affine=True, track_running_stats=True)\n",
              "    )\n",
              "    (3): conv_dw(\n",
              "      (depthwise): Conv2d(128, 128, kernel_size=(3, 3), stride=(1, 1), padding=(1, 1), groups=128)\n",
              "      (pointwise): Conv2d(128, 128, kernel_size=(1, 1), stride=(1, 1))\n",
              "      (ReLU): ReLU()\n",
              "      (bn1): BatchNorm2d(128, eps=1e-05, momentum=0.1, affine=True, track_running_stats=True)\n",
              "      (bn2): BatchNorm2d(128, eps=1e-05, momentum=0.1, affine=True, track_running_stats=True)\n",
              "    )\n",
              "    (4): conv_dw(\n",
              "      (depthwise): Conv2d(128, 128, kernel_size=(3, 3), stride=(2, 2), padding=(1, 1), groups=128)\n",
              "      (pointwise): Conv2d(128, 256, kernel_size=(1, 1), stride=(1, 1))\n",
              "      (ReLU): ReLU()\n",
              "      (bn1): BatchNorm2d(128, eps=1e-05, momentum=0.1, affine=True, track_running_stats=True)\n",
              "      (bn2): BatchNorm2d(256, eps=1e-05, momentum=0.1, affine=True, track_running_stats=True)\n",
              "    )\n",
              "    (5): conv_dw(\n",
              "      (depthwise): Conv2d(256, 256, kernel_size=(3, 3), stride=(1, 1), padding=(1, 1), groups=256)\n",
              "      (pointwise): Conv2d(256, 256, kernel_size=(1, 1), stride=(1, 1))\n",
              "      (ReLU): ReLU()\n",
              "      (bn1): BatchNorm2d(256, eps=1e-05, momentum=0.1, affine=True, track_running_stats=True)\n",
              "      (bn2): BatchNorm2d(256, eps=1e-05, momentum=0.1, affine=True, track_running_stats=True)\n",
              "    )\n",
              "    (6): conv_dw(\n",
              "      (depthwise): Conv2d(256, 256, kernel_size=(3, 3), stride=(2, 2), padding=(1, 1), groups=256)\n",
              "      (pointwise): Conv2d(256, 512, kernel_size=(1, 1), stride=(1, 1))\n",
              "      (ReLU): ReLU()\n",
              "      (bn1): BatchNorm2d(256, eps=1e-05, momentum=0.1, affine=True, track_running_stats=True)\n",
              "      (bn2): BatchNorm2d(512, eps=1e-05, momentum=0.1, affine=True, track_running_stats=True)\n",
              "    )\n",
              "    (7): conv_dw(\n",
              "      (depthwise): Conv2d(512, 512, kernel_size=(3, 3), stride=(1, 1), padding=(1, 1), groups=512)\n",
              "      (pointwise): Conv2d(512, 512, kernel_size=(1, 1), stride=(1, 1))\n",
              "      (ReLU): ReLU()\n",
              "      (bn1): BatchNorm2d(512, eps=1e-05, momentum=0.1, affine=True, track_running_stats=True)\n",
              "      (bn2): BatchNorm2d(512, eps=1e-05, momentum=0.1, affine=True, track_running_stats=True)\n",
              "    )\n",
              "    (8): conv_dw(\n",
              "      (depthwise): Conv2d(512, 512, kernel_size=(3, 3), stride=(1, 1), padding=(1, 1), groups=512)\n",
              "      (pointwise): Conv2d(512, 512, kernel_size=(1, 1), stride=(1, 1))\n",
              "      (ReLU): ReLU()\n",
              "      (bn1): BatchNorm2d(512, eps=1e-05, momentum=0.1, affine=True, track_running_stats=True)\n",
              "      (bn2): BatchNorm2d(512, eps=1e-05, momentum=0.1, affine=True, track_running_stats=True)\n",
              "    )\n",
              "    (9): conv_dw(\n",
              "      (depthwise): Conv2d(512, 512, kernel_size=(3, 3), stride=(1, 1), padding=(1, 1), groups=512)\n",
              "      (pointwise): Conv2d(512, 512, kernel_size=(1, 1), stride=(1, 1))\n",
              "      (ReLU): ReLU()\n",
              "      (bn1): BatchNorm2d(512, eps=1e-05, momentum=0.1, affine=True, track_running_stats=True)\n",
              "      (bn2): BatchNorm2d(512, eps=1e-05, momentum=0.1, affine=True, track_running_stats=True)\n",
              "    )\n",
              "    (10): conv_dw(\n",
              "      (depthwise): Conv2d(512, 512, kernel_size=(3, 3), stride=(1, 1), padding=(1, 1), groups=512)\n",
              "      (pointwise): Conv2d(512, 512, kernel_size=(1, 1), stride=(1, 1))\n",
              "      (ReLU): ReLU()\n",
              "      (bn1): BatchNorm2d(512, eps=1e-05, momentum=0.1, affine=True, track_running_stats=True)\n",
              "      (bn2): BatchNorm2d(512, eps=1e-05, momentum=0.1, affine=True, track_running_stats=True)\n",
              "    )\n",
              "    (11): conv_dw(\n",
              "      (depthwise): Conv2d(512, 512, kernel_size=(3, 3), stride=(1, 1), padding=(1, 1), groups=512)\n",
              "      (pointwise): Conv2d(512, 512, kernel_size=(1, 1), stride=(1, 1))\n",
              "      (ReLU): ReLU()\n",
              "      (bn1): BatchNorm2d(512, eps=1e-05, momentum=0.1, affine=True, track_running_stats=True)\n",
              "      (bn2): BatchNorm2d(512, eps=1e-05, momentum=0.1, affine=True, track_running_stats=True)\n",
              "    )\n",
              "    (12): conv_dw(\n",
              "      (depthwise): Conv2d(512, 512, kernel_size=(3, 3), stride=(2, 2), padding=(1, 1), groups=512)\n",
              "      (pointwise): Conv2d(512, 1024, kernel_size=(1, 1), stride=(1, 1))\n",
              "      (ReLU): ReLU()\n",
              "      (bn1): BatchNorm2d(512, eps=1e-05, momentum=0.1, affine=True, track_running_stats=True)\n",
              "      (bn2): BatchNorm2d(1024, eps=1e-05, momentum=0.1, affine=True, track_running_stats=True)\n",
              "    )\n",
              "    (13): conv_dw(\n",
              "      (depthwise): Conv2d(1024, 1024, kernel_size=(3, 3), stride=(1, 1), padding=(1, 1), groups=1024)\n",
              "      (pointwise): Conv2d(1024, 1024, kernel_size=(1, 1), stride=(1, 1))\n",
              "      (ReLU): ReLU()\n",
              "      (bn1): BatchNorm2d(1024, eps=1e-05, momentum=0.1, affine=True, track_running_stats=True)\n",
              "      (bn2): BatchNorm2d(1024, eps=1e-05, momentum=0.1, affine=True, track_running_stats=True)\n",
              "    )\n",
              "    (14): AdaptiveAvgPool2d(output_size=1)\n",
              "  )\n",
              "  (classifer): Sequential(\n",
              "    (0): Linear(in_features=1024, out_features=10, bias=True)\n",
              "  )\n",
              ")"
            ]
          },
          "metadata": {
            "tags": []
          },
          "execution_count": 9
        }
      ]
    },
    {
      "cell_type": "code",
      "metadata": {
        "colab": {
          "base_uri": "https://localhost:8080/",
          "height": 1000
        },
        "id": "rI4bshPGraOY",
        "outputId": "78578aed-6182-4530-cf64-e5a87d2353e5"
      },
      "source": [
        "args = AttrDict()\n",
        "args_dict = {\n",
        "    \"gpu\": True,\n",
        "    \"valid\": False,\n",
        "    \"initial_lr\":0.0125, \n",
        "    \"lr_decay\":0.95, \n",
        "    \"batch_size\": 256,\n",
        "    \"weight_decay\": 0.02,\n",
        "    \"epochs\": 100,\n",
        "    \"train_set\": trainset,\n",
        "    \"valid_set\": validset,\n",
        "    \"experiment_name\": \"depthwise_convnet\",\n",
        "    \"checkpoint\": \"\"\n",
        "}\n",
        "args.update(args_dict)\n",
        "dw_cnn = train(args, model)"
      ],
      "execution_count": 10,
      "outputs": [
        {
          "output_type": "stream",
          "text": [
            "Loading data...\n",
            "Using cuda\n",
            "Beginning training ...\n",
            "Epoch [1/100], Loss: 1.7481, Epoch Time (s): 17.92\n",
            "Epoch [1/100], Val Loss: 3.2674, Val Acc: 11.710%, Validation Time: 1.93\n",
            "Epoch [2/100], Loss: 1.2042, Epoch Time (s): 17.69\n",
            "Epoch [2/100], Val Loss: 3.2768, Val Acc: 14.720%, Validation Time: 1.89\n",
            "Epoch [3/100], Loss: 0.8757, Epoch Time (s): 17.81\n",
            "Epoch [3/100], Val Loss: 2.2283, Val Acc: 28.780%, Validation Time: 1.96\n",
            "Epoch [4/100], Loss: 0.6949, Epoch Time (s): 17.78\n",
            "Epoch [4/100], Val Loss: 1.2285, Val Acc: 60.940%, Validation Time: 1.95\n",
            "Epoch [5/100], Loss: 0.6105, Epoch Time (s): 17.78\n",
            "Epoch [5/100], Val Loss: 0.9414, Val Acc: 71.710%, Validation Time: 2.06\n",
            "Epoch [6/100], Loss: 0.5744, Epoch Time (s): 17.72\n",
            "Epoch [6/100], Val Loss: 0.9855, Val Acc: 69.310%, Validation Time: 1.99\n",
            "Epoch [7/100], Loss: 0.5566, Epoch Time (s): 17.83\n",
            "Epoch [7/100], Val Loss: 1.1091, Val Acc: 65.250%, Validation Time: 2.09\n",
            "Epoch [8/100], Loss: 0.5342, Epoch Time (s): 17.84\n",
            "Epoch [8/100], Val Loss: 1.5918, Val Acc: 50.640%, Validation Time: 2.10\n",
            "Epoch [9/100], Loss: 0.5142, Epoch Time (s): 17.84\n",
            "Epoch [9/100], Val Loss: 0.8077, Val Acc: 74.620%, Validation Time: 2.04\n",
            "Epoch [10/100], Loss: 0.5018, Epoch Time (s): 17.81\n",
            "Epoch [10/100], Val Loss: 1.1295, Val Acc: 66.300%, Validation Time: 2.08\n",
            "Epoch [11/100], Loss: 0.4809, Epoch Time (s): 17.76\n",
            "Epoch [11/100], Val Loss: 1.0219, Val Acc: 68.410%, Validation Time: 2.05\n",
            "Epoch [12/100], Loss: 0.4649, Epoch Time (s): 17.89\n",
            "Epoch [12/100], Val Loss: 1.1159, Val Acc: 66.210%, Validation Time: 2.01\n",
            "Epoch [13/100], Loss: 0.4475, Epoch Time (s): 17.77\n",
            "Epoch [13/100], Val Loss: 0.9740, Val Acc: 69.540%, Validation Time: 2.03\n",
            "Epoch [14/100], Loss: 0.4395, Epoch Time (s): 17.89\n",
            "Epoch [14/100], Val Loss: 0.7564, Val Acc: 76.920%, Validation Time: 2.12\n",
            "Epoch [15/100], Loss: 0.4140, Epoch Time (s): 17.84\n",
            "Epoch [15/100], Val Loss: 0.9585, Val Acc: 71.400%, Validation Time: 2.15\n",
            "Epoch [16/100], Loss: 0.4079, Epoch Time (s): 17.78\n",
            "Epoch [16/100], Val Loss: 0.7653, Val Acc: 76.260%, Validation Time: 2.07\n",
            "Epoch [17/100], Loss: 0.4024, Epoch Time (s): 17.82\n",
            "Epoch [17/100], Val Loss: 0.7404, Val Acc: 77.520%, Validation Time: 2.07\n",
            "Epoch [18/100], Loss: 0.3802, Epoch Time (s): 17.97\n",
            "Epoch [18/100], Val Loss: 0.8071, Val Acc: 76.390%, Validation Time: 2.14\n",
            "Epoch [19/100], Loss: 0.3645, Epoch Time (s): 17.95\n",
            "Epoch [19/100], Val Loss: 0.8130, Val Acc: 75.660%, Validation Time: 2.11\n",
            "Epoch [20/100], Loss: 0.3606, Epoch Time (s): 17.87\n",
            "Epoch [20/100], Val Loss: 0.6828, Val Acc: 79.130%, Validation Time: 2.09\n",
            "Epoch [21/100], Loss: 0.3439, Epoch Time (s): 17.74\n",
            "Epoch [21/100], Val Loss: 0.8612, Val Acc: 74.360%, Validation Time: 2.08\n",
            "Epoch [22/100], Loss: 0.3388, Epoch Time (s): 17.91\n",
            "Epoch [22/100], Val Loss: 0.6410, Val Acc: 81.330%, Validation Time: 2.13\n",
            "Epoch [23/100], Loss: 0.3282, Epoch Time (s): 18.05\n",
            "Epoch [23/100], Val Loss: 0.7537, Val Acc: 77.210%, Validation Time: 2.11\n",
            "Epoch [24/100], Loss: 0.3066, Epoch Time (s): 17.90\n",
            "Epoch [24/100], Val Loss: 0.7485, Val Acc: 77.880%, Validation Time: 2.12\n",
            "Epoch [25/100], Loss: 0.3066, Epoch Time (s): 17.84\n",
            "Epoch [25/100], Val Loss: 0.6522, Val Acc: 80.710%, Validation Time: 2.08\n",
            "Epoch [26/100], Loss: 0.2864, Epoch Time (s): 17.91\n",
            "Epoch [26/100], Val Loss: 0.6908, Val Acc: 80.080%, Validation Time: 2.10\n",
            "Epoch [27/100], Loss: 0.2751, Epoch Time (s): 17.82\n",
            "Epoch [27/100], Val Loss: 0.8407, Val Acc: 76.000%, Validation Time: 2.13\n",
            "Epoch [28/100], Loss: 0.2732, Epoch Time (s): 17.88\n",
            "Epoch [28/100], Val Loss: 0.6387, Val Acc: 81.420%, Validation Time: 2.19\n",
            "Epoch [29/100], Loss: 0.2610, Epoch Time (s): 17.82\n",
            "Epoch [29/100], Val Loss: 0.6647, Val Acc: 81.370%, Validation Time: 2.10\n",
            "Epoch [30/100], Loss: 0.2477, Epoch Time (s): 17.93\n",
            "Epoch [30/100], Val Loss: 0.6142, Val Acc: 82.190%, Validation Time: 2.13\n",
            "Epoch [31/100], Loss: 0.2350, Epoch Time (s): 17.99\n",
            "Epoch [31/100], Val Loss: 0.5876, Val Acc: 83.260%, Validation Time: 2.12\n",
            "Epoch [32/100], Loss: 0.2266, Epoch Time (s): 17.92\n",
            "Epoch [32/100], Val Loss: 0.6953, Val Acc: 80.050%, Validation Time: 2.13\n",
            "Epoch [33/100], Loss: 0.2167, Epoch Time (s): 17.77\n",
            "Epoch [33/100], Val Loss: 0.8171, Val Acc: 77.140%, Validation Time: 2.15\n",
            "Epoch [34/100], Loss: 0.2079, Epoch Time (s): 17.87\n",
            "Epoch [34/100], Val Loss: 0.7547, Val Acc: 79.450%, Validation Time: 2.12\n",
            "Epoch [35/100], Loss: 0.2040, Epoch Time (s): 17.82\n",
            "Epoch [35/100], Val Loss: 0.5858, Val Acc: 83.850%, Validation Time: 2.12\n",
            "Epoch [36/100], Loss: 0.1947, Epoch Time (s): 17.94\n",
            "Epoch [36/100], Val Loss: 0.6431, Val Acc: 82.350%, Validation Time: 2.09\n",
            "Epoch [37/100], Loss: 0.1862, Epoch Time (s): 17.91\n",
            "Epoch [37/100], Val Loss: 0.8123, Val Acc: 77.170%, Validation Time: 2.07\n",
            "Epoch [38/100], Loss: 0.1813, Epoch Time (s): 17.80\n",
            "Epoch [38/100], Val Loss: 0.6033, Val Acc: 83.290%, Validation Time: 2.08\n",
            "Epoch [39/100], Loss: 0.1727, Epoch Time (s): 17.97\n",
            "Epoch [39/100], Val Loss: 0.5825, Val Acc: 84.020%, Validation Time: 2.09\n",
            "Epoch [40/100], Loss: 0.1647, Epoch Time (s): 17.82\n",
            "Epoch [40/100], Val Loss: 0.6552, Val Acc: 82.230%, Validation Time: 2.10\n",
            "Epoch [41/100], Loss: 0.1605, Epoch Time (s): 17.81\n",
            "Epoch [41/100], Val Loss: 0.5923, Val Acc: 84.220%, Validation Time: 2.06\n",
            "Epoch [42/100], Loss: 0.1514, Epoch Time (s): 17.86\n",
            "Epoch [42/100], Val Loss: 0.5569, Val Acc: 85.110%, Validation Time: 1.99\n",
            "Epoch [43/100], Loss: 0.1380, Epoch Time (s): 17.74\n",
            "Epoch [43/100], Val Loss: 0.4953, Val Acc: 87.090%, Validation Time: 2.05\n",
            "Epoch [44/100], Loss: 0.1407, Epoch Time (s): 17.94\n",
            "Epoch [44/100], Val Loss: 0.5502, Val Acc: 85.640%, Validation Time: 1.95\n",
            "Epoch [45/100], Loss: 0.1297, Epoch Time (s): 17.75\n",
            "Epoch [45/100], Val Loss: 0.4669, Val Acc: 87.740%, Validation Time: 1.99\n",
            "Epoch [46/100], Loss: 0.1290, Epoch Time (s): 17.81\n",
            "Epoch [46/100], Val Loss: 0.5257, Val Acc: 86.510%, Validation Time: 1.99\n",
            "Epoch [47/100], Loss: 0.1227, Epoch Time (s): 17.69\n",
            "Epoch [47/100], Val Loss: 0.5580, Val Acc: 85.550%, Validation Time: 1.95\n",
            "Epoch [48/100], Loss: 0.1208, Epoch Time (s): 17.75\n",
            "Epoch [48/100], Val Loss: 0.5503, Val Acc: 85.980%, Validation Time: 1.99\n",
            "Epoch [49/100], Loss: 0.1136, Epoch Time (s): 17.77\n",
            "Epoch [49/100], Val Loss: 0.5708, Val Acc: 85.180%, Validation Time: 1.95\n",
            "Epoch [50/100], Loss: 0.1142, Epoch Time (s): 17.70\n",
            "Epoch [50/100], Val Loss: 0.5480, Val Acc: 85.810%, Validation Time: 1.92\n",
            "Epoch [51/100], Loss: 0.1093, Epoch Time (s): 17.80\n",
            "Epoch [51/100], Val Loss: 0.5449, Val Acc: 86.410%, Validation Time: 1.92\n",
            "Epoch [52/100], Loss: 0.1005, Epoch Time (s): 17.92\n",
            "Epoch [52/100], Val Loss: 0.5376, Val Acc: 86.620%, Validation Time: 1.93\n",
            "Epoch [53/100], Loss: 0.0937, Epoch Time (s): 17.82\n",
            "Epoch [53/100], Val Loss: 0.5127, Val Acc: 87.450%, Validation Time: 1.98\n",
            "Epoch [54/100], Loss: 0.0976, Epoch Time (s): 17.81\n",
            "Epoch [54/100], Val Loss: 0.5077, Val Acc: 87.430%, Validation Time: 1.93\n",
            "Epoch [55/100], Loss: 0.0972, Epoch Time (s): 17.73\n",
            "Epoch [55/100], Val Loss: 0.4987, Val Acc: 87.330%, Validation Time: 1.93\n",
            "Epoch [56/100], Loss: 0.0907, Epoch Time (s): 17.93\n",
            "Epoch [56/100], Val Loss: 0.5469, Val Acc: 86.710%, Validation Time: 1.99\n",
            "Epoch [57/100], Loss: 0.0872, Epoch Time (s): 17.64\n",
            "Epoch [57/100], Val Loss: 0.4727, Val Acc: 88.180%, Validation Time: 1.97\n",
            "Epoch [58/100], Loss: 0.0843, Epoch Time (s): 17.81\n",
            "Epoch [58/100], Val Loss: 0.4744, Val Acc: 88.240%, Validation Time: 1.98\n",
            "Epoch [59/100], Loss: 0.0818, Epoch Time (s): 17.68\n",
            "Epoch [59/100], Val Loss: 0.6309, Val Acc: 84.700%, Validation Time: 1.91\n",
            "Epoch [60/100], Loss: 0.0816, Epoch Time (s): 17.77\n",
            "Epoch [60/100], Val Loss: 0.5067, Val Acc: 87.670%, Validation Time: 1.98\n",
            "Epoch [61/100], Loss: 0.0820, Epoch Time (s): 17.71\n",
            "Epoch [61/100], Val Loss: 0.4994, Val Acc: 88.270%, Validation Time: 1.98\n",
            "Epoch [62/100], Loss: 0.0805, Epoch Time (s): 17.83\n",
            "Epoch [62/100], Val Loss: 0.5103, Val Acc: 87.550%, Validation Time: 1.96\n",
            "Epoch [63/100], Loss: 0.0811, Epoch Time (s): 17.84\n",
            "Epoch [63/100], Val Loss: 0.4647, Val Acc: 89.080%, Validation Time: 1.95\n",
            "Epoch [64/100], Loss: 0.0771, Epoch Time (s): 17.78\n",
            "Epoch [64/100], Val Loss: 0.4514, Val Acc: 89.470%, Validation Time: 1.91\n",
            "Epoch [65/100], Loss: 0.0736, Epoch Time (s): 17.77\n",
            "Epoch [65/100], Val Loss: 0.5061, Val Acc: 88.080%, Validation Time: 1.89\n",
            "Epoch [66/100], Loss: 0.0727, Epoch Time (s): 17.61\n",
            "Epoch [66/100], Val Loss: 0.4420, Val Acc: 89.400%, Validation Time: 1.91\n",
            "Epoch [67/100], Loss: 0.0733, Epoch Time (s): 17.66\n",
            "Epoch [67/100], Val Loss: 0.4360, Val Acc: 89.760%, Validation Time: 1.93\n",
            "Epoch [68/100], Loss: 0.0714, Epoch Time (s): 17.75\n",
            "Epoch [68/100], Val Loss: 0.4410, Val Acc: 89.530%, Validation Time: 1.92\n",
            "Epoch [69/100], Loss: 0.0719, Epoch Time (s): 17.78\n",
            "Epoch [69/100], Val Loss: 0.4295, Val Acc: 89.850%, Validation Time: 1.93\n",
            "Epoch [70/100], Loss: 0.0720, Epoch Time (s): 17.58\n",
            "Epoch [70/100], Val Loss: 0.4315, Val Acc: 89.540%, Validation Time: 1.94\n",
            "Epoch [71/100], Loss: 0.0711, Epoch Time (s): 17.66\n",
            "Epoch [71/100], Val Loss: 0.4197, Val Acc: 90.400%, Validation Time: 1.91\n",
            "Epoch [72/100], Loss: 0.0710, Epoch Time (s): 17.59\n",
            "Epoch [72/100], Val Loss: 0.4260, Val Acc: 89.820%, Validation Time: 1.90\n",
            "Epoch [73/100], Loss: 0.0721, Epoch Time (s): 17.65\n",
            "Epoch [73/100], Val Loss: 0.4481, Val Acc: 89.410%, Validation Time: 1.94\n",
            "Epoch [74/100], Loss: 0.0747, Epoch Time (s): 17.79\n",
            "Epoch [74/100], Val Loss: 0.7209, Val Acc: 82.550%, Validation Time: 1.94\n",
            "Epoch [75/100], Loss: 0.0890, Epoch Time (s): 17.72\n",
            "Epoch [75/100], Val Loss: 0.5751, Val Acc: 86.130%, Validation Time: 1.94\n",
            "Epoch [76/100], Loss: 0.0779, Epoch Time (s): 17.63\n",
            "Epoch [76/100], Val Loss: 0.5613, Val Acc: 86.620%, Validation Time: 1.90\n",
            "Epoch [77/100], Loss: 0.0753, Epoch Time (s): 17.75\n",
            "Epoch [77/100], Val Loss: 0.5146, Val Acc: 87.810%, Validation Time: 1.91\n",
            "Epoch [78/100], Loss: 0.0727, Epoch Time (s): 17.76\n",
            "Epoch [78/100], Val Loss: 0.4655, Val Acc: 89.180%, Validation Time: 1.94\n",
            "Epoch [79/100], Loss: 0.0706, Epoch Time (s): 17.76\n",
            "Epoch [79/100], Val Loss: 0.4342, Val Acc: 89.980%, Validation Time: 1.96\n",
            "Epoch [80/100], Loss: 0.0701, Epoch Time (s): 17.69\n",
            "Epoch [80/100], Val Loss: 0.4110, Val Acc: 90.410%, Validation Time: 1.97\n",
            "Epoch [81/100], Loss: 0.0708, Epoch Time (s): 17.83\n",
            "Epoch [81/100], Val Loss: 0.4140, Val Acc: 90.400%, Validation Time: 1.92\n",
            "Epoch [82/100], Loss: 0.0703, Epoch Time (s): 17.67\n",
            "Epoch [82/100], Val Loss: 0.4155, Val Acc: 90.240%, Validation Time: 1.92\n",
            "Epoch [83/100], Loss: 0.0702, Epoch Time (s): 17.69\n",
            "Epoch [83/100], Val Loss: 0.4161, Val Acc: 90.120%, Validation Time: 1.93\n",
            "Epoch [84/100], Loss: 0.0705, Epoch Time (s): 17.79\n",
            "Epoch [84/100], Val Loss: 0.4360, Val Acc: 89.700%, Validation Time: 1.92\n",
            "Epoch [85/100], Loss: 0.0708, Epoch Time (s): 17.75\n",
            "Epoch [85/100], Val Loss: 0.4242, Val Acc: 89.880%, Validation Time: 1.98\n",
            "Epoch [86/100], Loss: 0.0704, Epoch Time (s): 17.71\n",
            "Epoch [86/100], Val Loss: 0.4226, Val Acc: 89.930%, Validation Time: 1.94\n",
            "Epoch [87/100], Loss: 0.0706, Epoch Time (s): 17.82\n",
            "Epoch [87/100], Val Loss: 0.4225, Val Acc: 90.160%, Validation Time: 1.92\n",
            "Epoch [88/100], Loss: 0.0702, Epoch Time (s): 17.83\n",
            "Epoch [88/100], Val Loss: 0.4290, Val Acc: 89.790%, Validation Time: 1.96\n",
            "Epoch [89/100], Loss: 0.0708, Epoch Time (s): 17.78\n",
            "Epoch [89/100], Val Loss: 0.4305, Val Acc: 89.860%, Validation Time: 1.93\n",
            "Epoch [90/100], Loss: 0.0705, Epoch Time (s): 17.80\n",
            "Epoch [90/100], Val Loss: 0.4248, Val Acc: 90.030%, Validation Time: 1.92\n",
            "Epoch [91/100], Loss: 0.0705, Epoch Time (s): 17.81\n",
            "Epoch [91/100], Val Loss: 0.4292, Val Acc: 89.760%, Validation Time: 2.01\n",
            "Epoch [92/100], Loss: 0.0706, Epoch Time (s): 17.73\n",
            "Epoch [92/100], Val Loss: 0.4370, Val Acc: 89.550%, Validation Time: 2.00\n",
            "Epoch [93/100], Loss: 0.0706, Epoch Time (s): 17.77\n",
            "Epoch [93/100], Val Loss: 0.4244, Val Acc: 90.140%, Validation Time: 2.05\n",
            "Epoch [94/100], Loss: 0.0709, Epoch Time (s): 17.66\n",
            "Epoch [94/100], Val Loss: 0.4296, Val Acc: 89.850%, Validation Time: 1.93\n",
            "Epoch [95/100], Loss: 0.0701, Epoch Time (s): 17.62\n",
            "Epoch [95/100], Val Loss: 0.4436, Val Acc: 89.670%, Validation Time: 1.97\n",
            "Epoch [96/100], Loss: 0.0704, Epoch Time (s): 17.79\n",
            "Epoch [96/100], Val Loss: 0.4329, Val Acc: 89.750%, Validation Time: 1.99\n",
            "Epoch [97/100], Loss: 0.0710, Epoch Time (s): 17.75\n",
            "Epoch [97/100], Val Loss: 0.4590, Val Acc: 89.270%, Validation Time: 1.95\n",
            "Epoch [98/100], Loss: 0.0702, Epoch Time (s): 17.81\n",
            "Epoch [98/100], Val Loss: 0.4410, Val Acc: 89.600%, Validation Time: 2.01\n",
            "Epoch [99/100], Loss: 0.0709, Epoch Time (s): 17.82\n",
            "Epoch [99/100], Val Loss: 0.4300, Val Acc: 89.870%, Validation Time: 1.97\n",
            "Epoch [100/100], Loss: 0.0698, Epoch Time (s): 17.67\n",
            "Epoch [100/100], Val Loss: 0.4331, Val Acc: 89.860%, Validation Time: 1.98\n",
            "Total Training Time: 1979.88\n"
          ],
          "name": "stdout"
        },
        {
          "output_type": "display_data",
          "data": {
            "image/png": "[encoded data removed]",
            "text/plain": [
              "<Figure size 432x288 with 1 Axes>"
            ]
          },
          "metadata": {
            "tags": [],
            "needs_background": "light"
          }
        },
        {
          "output_type": "display_data",
          "data": {
            "image/png": "[encoded data removed]",
            "text/plain": [
              "<Figure size 432x288 with 1 Axes>"
            ]
          },
          "metadata": {
            "tags": [],
            "needs_background": "light"
          }
        }
      ]
    },
    {
      "cell_type": "code",
      "metadata": {
        "id": "IJ6vImkABaZ7",
        "colab": {
          "base_uri": "https://localhost:8080/"
        },
        "outputId": "327deb4f-9858-4b46-8c8f-be1f268c482b"
      },
      "source": [
        "times = []\n",
        "accs = []\n",
        "\n",
        "validloader = torch.utils.data.DataLoader(\n",
        "    args.valid_set, batch_size=args.batch_size, \n",
        "    shuffle=False, num_workers=2)\n",
        "\n",
        "for i in range(10):\n",
        "    correct = 0\n",
        "    total = 0\n",
        "    start = time.time()\n",
        "    with torch.no_grad():\n",
        "        for data in validloader:\n",
        "            images, labels = data[0].to(device), data[1].to(device)\n",
        "            outputs = dw_cnn(images)\n",
        "            _, predicted = torch.max(outputs.data, 1)\n",
        "            total += labels.size(0)\n",
        "            correct += (predicted == labels).sum().item()\n",
        "    accs.append(correct / total)\n",
        "    times.append(time.time() - start)\n",
        "\n",
        "print('Accuracy of the network on the test images: %.3f%%' % (\n",
        "    100 * np.mean(accs)))\n",
        "print(\n",
        "    \"Time: %.2f\"\n",
        "    % (np.mean(times))\n",
        ")\n",
        "print(times)"
      ],
      "execution_count": 11,
      "outputs": [
        {
          "output_type": "stream",
          "text": [
            "Accuracy of the network on the test images: 89.940%\n",
            "Time: 1.98\n",
            "[1.9818344116210938, 1.9794657230377197, 2.00274395942688, 2.0074429512023926, 1.9727210998535156, 1.9546656608581543, 1.9752967357635498, 1.9403975009918213, 1.9870414733886719, 1.9723000526428223]\n"
          ],
          "name": "stdout"
        }
      ]
    },
    {
      "cell_type": "code",
      "metadata": {
        "id": "PZ6RUO29BISE",
        "colab": {
          "base_uri": "https://localhost:8080/"
        },
        "outputId": "63ee719f-928e-4b8f-c157-b32bcfff7694"
      },
      "source": [
        "times = []\n",
        "\n",
        "validloader = torch.utils.data.DataLoader(\n",
        "    args.valid_set, batch_size=4, \n",
        "    shuffle=False, num_workers=2)\n",
        "\n",
        "for i in range(10):\n",
        "    correct = 0\n",
        "    total = 0\n",
        "    start = time.time()\n",
        "    with torch.no_grad():\n",
        "        for data in validloader:\n",
        "            images, labels = data[0].to(device), data[1].to(device)\n",
        "            outputs = dw_cnn(images)\n",
        "            _, predicted = torch.max(outputs.data, 1)\n",
        "            total += labels.size(0)\n",
        "            correct += (predicted == labels).sum().item()\n",
        "    times.append(time.time() - start)\n",
        "print(\n",
        "    \"Time: %.2f\"\n",
        "    % (np.mean(times))\n",
        ")\n",
        "print(times)"
      ],
      "execution_count": 12,
      "outputs": [
        {
          "output_type": "stream",
          "text": [
            "Time: 15.22\n",
            "[15.699233055114746, 15.143146753311157, 15.158486127853394, 15.156630516052246, 15.202311038970947, 15.177276134490967, 15.250300645828247, 15.096339464187622, 15.077723264694214, 15.235596418380737]\n"
          ],
          "name": "stdout"
        }
      ]
    },
    {
      "cell_type": "code",
      "metadata": {
        "id": "rOIZAgagQoJz",
        "colab": {
          "base_uri": "https://localhost:8080/"
        },
        "outputId": "5e1f81e1-2386-4419-d74a-a6d0e4dbf1a5"
      },
      "source": [
        "times = []\n",
        "accs = []\n",
        "\n",
        "trainloader = torch.utils.data.DataLoader(\n",
        "    args.train_set, batch_size=args.batch_size, \n",
        "    shuffle=False, num_workers=2)\n",
        "\n",
        "for i in range(10):\n",
        "    correct = 0\n",
        "    total = 0\n",
        "    start = time.time()\n",
        "    with torch.no_grad():\n",
        "        for data in trainloader:\n",
        "            images, labels = data[0].to(device), data[1].to(device)\n",
        "            outputs = dw_cnn(images)\n",
        "            _, predicted = torch.max(outputs.data, 1)\n",
        "            total += labels.size(0)\n",
        "            correct += (predicted == labels).sum().item()\n",
        "    accs.append(correct / total)\n",
        "    times.append(time.time() - start)\n",
        "\n",
        "print('Accuracy of the network on the test images: %.3f%%' % (\n",
        "    100 * np.mean(accs)))\n",
        "print(\n",
        "    \"Time: %.2f\"\n",
        "    % (np.mean(times))\n",
        ")\n",
        "print(times)"
      ],
      "execution_count": 13,
      "outputs": [
        {
          "output_type": "stream",
          "text": [
            "Accuracy of the network on the test images: 99.958%\n",
            "Time: 9.15\n",
            "[9.230589866638184, 9.11013412475586, 9.227422714233398, 9.172025918960571, 9.032367944717407, 9.19140911102295, 9.100807428359985, 9.013861656188965, 9.190531969070435, 9.25968623161316]\n"
          ],
          "name": "stdout"
        }
      ]
    },
    {
      "cell_type": "code",
      "metadata": {
        "id": "T50J3rVpBLRP",
        "colab": {
          "base_uri": "https://localhost:8080/"
        },
        "outputId": "167c976d-2cbb-47d6-a3b8-bd1cd64c3a03"
      },
      "source": [
        "times = []\n",
        "\n",
        "trainloader = torch.utils.data.DataLoader(\n",
        "    args.train_set, batch_size=4, \n",
        "    shuffle=False, num_workers=2)\n",
        "\n",
        "for i in range(10):\n",
        "    correct = 0\n",
        "    total = 0\n",
        "    start = time.time()\n",
        "    with torch.no_grad():\n",
        "        for data in trainloader:\n",
        "            images, labels = data[0].to(device), data[1].to(device)\n",
        "            outputs = dw_cnn(images)\n",
        "            _, predicted = torch.max(outputs.data, 1)\n",
        "            total += labels.size(0)\n",
        "            correct += (predicted == labels).sum().item()\n",
        "    times.append(time.time() - start)\n",
        "\n",
        "print(\n",
        "    \"Time: %.2f\"\n",
        "    % (np.mean(times))\n",
        ")\n",
        "print(times)"
      ],
      "execution_count": 14,
      "outputs": [
        {
          "output_type": "stream",
          "text": [
            "Time: 75.18\n",
            "[75.89221525192261, 75.26599097251892, 75.19589591026306, 75.08802819252014, 75.2153844833374, 75.35548162460327, 74.87570381164551, 75.11648797988892, 74.79235529899597, 74.96703433990479]\n"
          ],
          "name": "stdout"
        }
      ]
    },
    {
      "cell_type": "markdown",
      "metadata": {
        "id": "xo8qXj3Bp26I"
      },
      "source": [
        "# Ordinary Convolution Network"
      ]
    },
    {
      "cell_type": "code",
      "metadata": {
        "id": "Zk9wpIUG0Vaw"
      },
      "source": [
        "class ConvNet(nn.Module):\n",
        "    def __init__(self, in_channel, out_classes):\n",
        "        super(ConvNet, self).__init__()\n",
        "        self.conv_model = nn.Sequential(\n",
        "            conv_transpose_bn(in_channel, 32, 2),\n",
        "            conv_bn(32, 64, 1),\n",
        "            conv_bn(64, 128, 2),\n",
        "            conv_bn(128, 128, 1),\n",
        "            conv_bn(128, 256, 2),\n",
        "            conv_bn(256, 256, 1),\n",
        "            conv_bn(256, 512, 2),\n",
        "            conv_bn(512, 512, 1),\n",
        "            conv_bn(512, 512, 1),\n",
        "            conv_bn(512, 512, 1),\n",
        "            conv_bn(512, 512, 1),\n",
        "            conv_bn(512, 512, 1),\n",
        "            conv_bn(512, 1024, 2),\n",
        "            conv_bn(1024, 1024, 1),\n",
        "            nn.AdaptiveAvgPool2d(1)\n",
        "        )\n",
        "\n",
        "        self.classifer = nn.Sequential(\n",
        "            nn.Linear(1024, out_classes),\n",
        "        )\n",
        "      \n",
        "\n",
        "    def forward(self, x):\n",
        "        out = self.conv_model(x)\n",
        "        out = torch.reshape(out, (-1, 1024))\n",
        "        out = self.classifer(out)\n",
        "        return out\n"
      ],
      "execution_count": 15,
      "outputs": []
    },
    {
      "cell_type": "code",
      "metadata": {
        "id": "BRRFyQO_j-N_",
        "colab": {
          "base_uri": "https://localhost:8080/"
        },
        "outputId": "e19c8bd8-cc0c-4c93-bee2-3f520761fd66"
      },
      "source": [
        "if torch.cuda.is_available():\n",
        "    print(\"Using cuda\")\n",
        "    device = torch.device(\"cuda\")\n",
        "else:\n",
        "    device = \"cpu\"\n",
        "\n",
        "criterion = nn.CrossEntropyLoss()\n",
        "criterion.to(device)\n",
        "model = ConvNet(3, 10)\n",
        "\n",
        "model.to(device)\n",
        "model.train()"
      ],
      "execution_count": 16,
      "outputs": [
        {
          "output_type": "stream",
          "text": [
            "Using cuda\n"
          ],
          "name": "stdout"
        },
        {
          "output_type": "execute_result",
          "data": {
            "text/plain": [
              "ConvNet(\n",
              "  (conv_model): Sequential(\n",
              "    (0): conv_transpose_bn(\n",
              "      (conv): ConvTranspose2d(3, 32, kernel_size=(3, 3), stride=(2, 2), padding=(1, 1), output_padding=(1, 1))\n",
              "      (ReLU): ReLU()\n",
              "      (bn): BatchNorm2d(32, eps=1e-05, momentum=0.1, affine=True, track_running_stats=True)\n",
              "    )\n",
              "    (1): conv_bn(\n",
              "      (conv): Conv2d(32, 64, kernel_size=(3, 3), stride=(1, 1), padding=(1, 1))\n",
              "      (ReLU): ReLU()\n",
              "      (bn): BatchNorm2d(64, eps=1e-05, momentum=0.1, affine=True, track_running_stats=True)\n",
              "    )\n",
              "    (2): conv_bn(\n",
              "      (conv): Conv2d(64, 128, kernel_size=(3, 3), stride=(2, 2), padding=(1, 1))\n",
              "      (ReLU): ReLU()\n",
              "      (bn): BatchNorm2d(128, eps=1e-05, momentum=0.1, affine=True, track_running_stats=True)\n",
              "    )\n",
              "    (3): conv_bn(\n",
              "      (conv): Conv2d(128, 128, kernel_size=(3, 3), stride=(1, 1), padding=(1, 1))\n",
              "      (ReLU): ReLU()\n",
              "      (bn): BatchNorm2d(128, eps=1e-05, momentum=0.1, affine=True, track_running_stats=True)\n",
              "    )\n",
              "    (4): conv_bn(\n",
              "      (conv): Conv2d(128, 256, kernel_size=(3, 3), stride=(2, 2), padding=(1, 1))\n",
              "      (ReLU): ReLU()\n",
              "      (bn): BatchNorm2d(256, eps=1e-05, momentum=0.1, affine=True, track_running_stats=True)\n",
              "    )\n",
              "    (5): conv_bn(\n",
              "      (conv): Conv2d(256, 256, kernel_size=(3, 3), stride=(1, 1), padding=(1, 1))\n",
              "      (ReLU): ReLU()\n",
              "      (bn): BatchNorm2d(256, eps=1e-05, momentum=0.1, affine=True, track_running_stats=True)\n",
              "    )\n",
              "    (6): conv_bn(\n",
              "      (conv): Conv2d(256, 512, kernel_size=(3, 3), stride=(2, 2), padding=(1, 1))\n",
              "      (ReLU): ReLU()\n",
              "      (bn): BatchNorm2d(512, eps=1e-05, momentum=0.1, affine=True, track_running_stats=True)\n",
              "    )\n",
              "    (7): conv_bn(\n",
              "      (conv): Conv2d(512, 512, kernel_size=(3, 3), stride=(1, 1), padding=(1, 1))\n",
              "      (ReLU): ReLU()\n",
              "      (bn): BatchNorm2d(512, eps=1e-05, momentum=0.1, affine=True, track_running_stats=True)\n",
              "    )\n",
              "    (8): conv_bn(\n",
              "      (conv): Conv2d(512, 512, kernel_size=(3, 3), stride=(1, 1), padding=(1, 1))\n",
              "      (ReLU): ReLU()\n",
              "      (bn): BatchNorm2d(512, eps=1e-05, momentum=0.1, affine=True, track_running_stats=True)\n",
              "    )\n",
              "    (9): conv_bn(\n",
              "      (conv): Conv2d(512, 512, kernel_size=(3, 3), stride=(1, 1), padding=(1, 1))\n",
              "      (ReLU): ReLU()\n",
              "      (bn): BatchNorm2d(512, eps=1e-05, momentum=0.1, affine=True, track_running_stats=True)\n",
              "    )\n",
              "    (10): conv_bn(\n",
              "      (conv): Conv2d(512, 512, kernel_size=(3, 3), stride=(1, 1), padding=(1, 1))\n",
              "      (ReLU): ReLU()\n",
              "      (bn): BatchNorm2d(512, eps=1e-05, momentum=0.1, affine=True, track_running_stats=True)\n",
              "    )\n",
              "    (11): conv_bn(\n",
              "      (conv): Conv2d(512, 512, kernel_size=(3, 3), stride=(1, 1), padding=(1, 1))\n",
              "      (ReLU): ReLU()\n",
              "      (bn): BatchNorm2d(512, eps=1e-05, momentum=0.1, affine=True, track_running_stats=True)\n",
              "    )\n",
              "    (12): conv_bn(\n",
              "      (conv): Conv2d(512, 1024, kernel_size=(3, 3), stride=(2, 2), padding=(1, 1))\n",
              "      (ReLU): ReLU()\n",
              "      (bn): BatchNorm2d(1024, eps=1e-05, momentum=0.1, affine=True, track_running_stats=True)\n",
              "    )\n",
              "    (13): conv_bn(\n",
              "      (conv): Conv2d(1024, 1024, kernel_size=(3, 3), stride=(1, 1), padding=(1, 1))\n",
              "      (ReLU): ReLU()\n",
              "      (bn): BatchNorm2d(1024, eps=1e-05, momentum=0.1, affine=True, track_running_stats=True)\n",
              "    )\n",
              "    (14): AdaptiveAvgPool2d(output_size=1)\n",
              "  )\n",
              "  (classifer): Sequential(\n",
              "    (0): Linear(in_features=1024, out_features=10, bias=True)\n",
              "  )\n",
              ")"
            ]
          },
          "metadata": {
            "tags": []
          },
          "execution_count": 16
        }
      ]
    },
    {
      "cell_type": "code",
      "metadata": {
        "id": "qxKyV35jkE-S",
        "colab": {
          "base_uri": "https://localhost:8080/",
          "height": 1000
        },
        "outputId": "fd5dcacd-8a83-4733-a786-cf2f29d74b73"
      },
      "source": [
        "args = AttrDict()\n",
        "args_dict = {\n",
        "    \"gpu\": True,\n",
        "    \"valid\": False,\n",
        "    \"initial_lr\":0.0125, \n",
        "    \"lr_decay\": 0.9, \n",
        "    \"batch_size\": 256,\n",
        "    \"weight_decay\": 0.025,\n",
        "    \"epochs\": 50,\n",
        "    \"train_set\": trainset,\n",
        "    \"valid_set\": validset,\n",
        "    \"experiment_name\": \"ordinary_convnet\",\n",
        "    \"checkpoint\": \"\"\n",
        "}\n",
        "args.update(args_dict)\n",
        "cnn = train(args, model)"
      ],
      "execution_count": 17,
      "outputs": [
        {
          "output_type": "stream",
          "text": [
            "Loading data...\n",
            "Using cuda\n",
            "Beginning training ...\n",
            "Epoch [1/50], Loss: 1.2885, Epoch Time (s): 33.03\n",
            "Epoch [1/50], Val Loss: 1.6105, Val Acc: 46.230%, Validation Time: 2.20\n",
            "Epoch [2/50], Loss: 0.7512, Epoch Time (s): 33.08\n",
            "Epoch [2/50], Val Loss: 1.1389, Val Acc: 63.160%, Validation Time: 2.20\n",
            "Epoch [3/50], Loss: 0.6145, Epoch Time (s): 33.09\n",
            "Epoch [3/50], Val Loss: 0.9933, Val Acc: 68.320%, Validation Time: 2.21\n",
            "Epoch [4/50], Loss: 0.5588, Epoch Time (s): 33.09\n",
            "Epoch [4/50], Val Loss: 1.3486, Val Acc: 59.230%, Validation Time: 2.21\n",
            "Epoch [5/50], Loss: 0.5113, Epoch Time (s): 33.35\n",
            "Epoch [5/50], Val Loss: 0.9447, Val Acc: 71.100%, Validation Time: 2.28\n",
            "Epoch [6/50], Loss: 0.4697, Epoch Time (s): 33.25\n",
            "Epoch [6/50], Val Loss: 1.4983, Val Acc: 55.320%, Validation Time: 2.25\n",
            "Epoch [7/50], Loss: 0.4263, Epoch Time (s): 33.34\n",
            "Epoch [7/50], Val Loss: 0.9771, Val Acc: 70.090%, Validation Time: 2.22\n",
            "Epoch [8/50], Loss: 0.3950, Epoch Time (s): 33.24\n",
            "Epoch [8/50], Val Loss: 0.8329, Val Acc: 74.640%, Validation Time: 2.22\n",
            "Epoch [9/50], Loss: 0.3551, Epoch Time (s): 33.16\n",
            "Epoch [9/50], Val Loss: 1.2158, Val Acc: 65.630%, Validation Time: 2.17\n",
            "Epoch [10/50], Loss: 0.3060, Epoch Time (s): 33.22\n",
            "Epoch [10/50], Val Loss: 0.7611, Val Acc: 77.520%, Validation Time: 2.19\n",
            "Epoch [11/50], Loss: 0.2704, Epoch Time (s): 33.30\n",
            "Epoch [11/50], Val Loss: 0.8824, Val Acc: 75.130%, Validation Time: 2.19\n",
            "Epoch [12/50], Loss: 0.2413, Epoch Time (s): 33.04\n",
            "Epoch [12/50], Val Loss: 0.9467, Val Acc: 72.140%, Validation Time: 2.18\n",
            "Epoch [13/50], Loss: 0.2108, Epoch Time (s): 33.10\n",
            "Epoch [13/50], Val Loss: 0.6337, Val Acc: 81.940%, Validation Time: 2.19\n",
            "Epoch [14/50], Loss: 0.1822, Epoch Time (s): 33.15\n",
            "Epoch [14/50], Val Loss: 0.7436, Val Acc: 79.170%, Validation Time: 2.19\n",
            "Epoch [15/50], Loss: 0.1608, Epoch Time (s): 33.20\n",
            "Epoch [15/50], Val Loss: 0.5590, Val Acc: 84.270%, Validation Time: 2.26\n",
            "Epoch [16/50], Loss: 0.1401, Epoch Time (s): 33.20\n",
            "Epoch [16/50], Val Loss: 0.6787, Val Acc: 81.540%, Validation Time: 2.21\n",
            "Epoch [17/50], Loss: 0.1267, Epoch Time (s): 33.19\n",
            "Epoch [17/50], Val Loss: 0.5843, Val Acc: 83.620%, Validation Time: 2.23\n",
            "Epoch [18/50], Loss: 0.1139, Epoch Time (s): 33.21\n",
            "Epoch [18/50], Val Loss: 0.8295, Val Acc: 77.550%, Validation Time: 2.23\n",
            "Epoch [19/50], Loss: 0.1053, Epoch Time (s): 33.21\n",
            "Epoch [19/50], Val Loss: 0.5289, Val Acc: 85.940%, Validation Time: 2.19\n",
            "Epoch [20/50], Loss: 0.0956, Epoch Time (s): 33.27\n",
            "Epoch [20/50], Val Loss: 0.4933, Val Acc: 87.120%, Validation Time: 2.22\n",
            "Epoch [21/50], Loss: 0.0892, Epoch Time (s): 33.21\n",
            "Epoch [21/50], Val Loss: 0.4373, Val Acc: 89.120%, Validation Time: 2.19\n",
            "Epoch [22/50], Loss: 0.0890, Epoch Time (s): 33.22\n",
            "Epoch [22/50], Val Loss: 0.4382, Val Acc: 88.870%, Validation Time: 2.23\n",
            "Epoch [23/50], Loss: 0.0887, Epoch Time (s): 33.22\n",
            "Epoch [23/50], Val Loss: 0.4362, Val Acc: 89.090%, Validation Time: 2.20\n",
            "Epoch [24/50], Loss: 0.0899, Epoch Time (s): 33.23\n",
            "Epoch [24/50], Val Loss: 0.4372, Val Acc: 89.020%, Validation Time: 2.24\n",
            "Epoch [25/50], Loss: 0.0895, Epoch Time (s): 33.22\n",
            "Epoch [25/50], Val Loss: 0.4480, Val Acc: 88.870%, Validation Time: 2.24\n",
            "Epoch [26/50], Loss: 0.0892, Epoch Time (s): 33.26\n",
            "Epoch [26/50], Val Loss: 0.4426, Val Acc: 88.930%, Validation Time: 2.24\n",
            "Epoch [27/50], Loss: 0.0892, Epoch Time (s): 33.11\n",
            "Epoch [27/50], Val Loss: 0.4451, Val Acc: 88.910%, Validation Time: 2.24\n",
            "Epoch [28/50], Loss: 0.0888, Epoch Time (s): 33.29\n",
            "Epoch [28/50], Val Loss: 0.4406, Val Acc: 89.040%, Validation Time: 2.21\n",
            "Epoch [29/50], Loss: 0.0892, Epoch Time (s): 33.28\n",
            "Epoch [29/50], Val Loss: 0.4528, Val Acc: 88.500%, Validation Time: 2.21\n",
            "Epoch [30/50], Loss: 0.0886, Epoch Time (s): 33.21\n",
            "Epoch [30/50], Val Loss: 0.4526, Val Acc: 88.570%, Validation Time: 2.27\n",
            "Epoch [31/50], Loss: 0.0880, Epoch Time (s): 33.28\n",
            "Epoch [31/50], Val Loss: 0.4499, Val Acc: 88.740%, Validation Time: 2.20\n",
            "Epoch [32/50], Loss: 0.0884, Epoch Time (s): 33.25\n",
            "Epoch [32/50], Val Loss: 0.4567, Val Acc: 88.290%, Validation Time: 2.26\n",
            "Epoch [33/50], Loss: 0.0884, Epoch Time (s): 33.22\n",
            "Epoch [33/50], Val Loss: 0.4550, Val Acc: 88.450%, Validation Time: 2.24\n",
            "Epoch [34/50], Loss: 0.0883, Epoch Time (s): 33.12\n",
            "Epoch [34/50], Val Loss: 0.4644, Val Acc: 88.310%, Validation Time: 2.19\n",
            "Epoch [35/50], Loss: 0.0881, Epoch Time (s): 33.17\n",
            "Epoch [35/50], Val Loss: 0.4576, Val Acc: 88.620%, Validation Time: 2.18\n",
            "Epoch [36/50], Loss: 0.0881, Epoch Time (s): 33.12\n",
            "Epoch [36/50], Val Loss: 0.4562, Val Acc: 88.590%, Validation Time: 2.13\n",
            "Epoch [37/50], Loss: 0.0878, Epoch Time (s): 33.13\n",
            "Epoch [37/50], Val Loss: 0.4571, Val Acc: 88.660%, Validation Time: 2.15\n",
            "Epoch [38/50], Loss: 0.0880, Epoch Time (s): 33.18\n",
            "Epoch [38/50], Val Loss: 0.4575, Val Acc: 88.470%, Validation Time: 2.19\n",
            "Epoch [39/50], Loss: 0.0883, Epoch Time (s): 33.09\n",
            "Epoch [39/50], Val Loss: 0.4578, Val Acc: 88.420%, Validation Time: 2.16\n",
            "Epoch [40/50], Loss: 0.0880, Epoch Time (s): 33.18\n",
            "Epoch [40/50], Val Loss: 0.4588, Val Acc: 88.240%, Validation Time: 2.16\n",
            "Epoch [41/50], Loss: 0.0884, Epoch Time (s): 33.24\n",
            "Epoch [41/50], Val Loss: 0.4581, Val Acc: 88.350%, Validation Time: 2.20\n",
            "Epoch [42/50], Loss: 0.0877, Epoch Time (s): 33.14\n",
            "Epoch [42/50], Val Loss: 0.4584, Val Acc: 88.420%, Validation Time: 2.19\n",
            "Epoch [43/50], Loss: 0.0878, Epoch Time (s): 33.06\n",
            "Epoch [43/50], Val Loss: 0.4585, Val Acc: 88.470%, Validation Time: 2.18\n",
            "Epoch [44/50], Loss: 0.0880, Epoch Time (s): 33.28\n",
            "Epoch [44/50], Val Loss: 0.4599, Val Acc: 88.280%, Validation Time: 2.21\n",
            "Epoch [45/50], Loss: 0.0875, Epoch Time (s): 33.05\n",
            "Epoch [45/50], Val Loss: 0.4602, Val Acc: 88.320%, Validation Time: 2.15\n",
            "Epoch [46/50], Loss: 0.0876, Epoch Time (s): 33.32\n",
            "Epoch [46/50], Val Loss: 0.4628, Val Acc: 88.400%, Validation Time: 2.18\n",
            "Epoch [47/50], Loss: 0.0877, Epoch Time (s): 33.11\n",
            "Epoch [47/50], Val Loss: 0.4623, Val Acc: 88.360%, Validation Time: 2.18\n",
            "Epoch [48/50], Loss: 0.0878, Epoch Time (s): 33.25\n",
            "Epoch [48/50], Val Loss: 0.4608, Val Acc: 88.380%, Validation Time: 2.16\n",
            "Epoch [49/50], Loss: 0.0877, Epoch Time (s): 33.13\n",
            "Epoch [49/50], Val Loss: 0.4611, Val Acc: 88.260%, Validation Time: 2.19\n",
            "Epoch [50/50], Loss: 0.0879, Epoch Time (s): 33.09\n",
            "Epoch [50/50], Val Loss: 0.4624, Val Acc: 88.340%, Validation Time: 2.18\n",
            "Total Training Time: 1769.63\n"
          ],
          "name": "stdout"
        },
        {
          "output_type": "display_data",
          "data": {
            "image/png": "[encoded data removed]",
            "text/plain": [
              "<Figure size 432x288 with 1 Axes>"
            ]
          },
          "metadata": {
            "tags": [],
            "needs_background": "light"
          }
        },
        {
          "output_type": "display_data",
          "data": {
            "image/png": "[encoded data removed]",
            "text/plain": [
              "<Figure size 432x288 with 1 Axes>"
            ]
          },
          "metadata": {
            "tags": [],
            "needs_background": "light"
          }
        }
      ]
    },
    {
      "cell_type": "code",
      "metadata": {
        "id": "MwjyPc0YlH8U",
        "colab": {
          "base_uri": "https://localhost:8080/"
        },
        "outputId": "542083de-721d-4bc0-d5f0-2d3cb37ac9ec"
      },
      "source": [
        "times = []\n",
        "accs = []\n",
        "\n",
        "validloader = torch.utils.data.DataLoader(\n",
        "    args.valid_set, batch_size=args.batch_size, \n",
        "    shuffle=False, num_workers=2)\n",
        "\n",
        "for i in range(10):\n",
        "    correct = 0\n",
        "    total = 0\n",
        "    start = time.time()\n",
        "    with torch.no_grad():\n",
        "        for data in validloader:\n",
        "            images, labels = data[0].to(device), data[1].to(device)\n",
        "            outputs = cnn(images)\n",
        "            _, predicted = torch.max(outputs.data, 1)\n",
        "            total += labels.size(0)\n",
        "            correct += (predicted == labels).sum().item()\n",
        "    accs.append(correct / total)\n",
        "    times.append(time.time() - start)\n",
        "\n",
        "print('Accuracy of the network on the test images: %.3f%%' % (\n",
        "    100 * np.mean(accs)))\n",
        "print(\n",
        "    \"Time: %.2f\"\n",
        "    % (np.mean(times))\n",
        ")\n",
        "print(times)"
      ],
      "execution_count": 18,
      "outputs": [
        {
          "output_type": "stream",
          "text": [
            "Accuracy of the network on the test images: 88.080%\n",
            "Time: 2.17\n",
            "[2.1866867542266846, 2.2041730880737305, 2.1858041286468506, 2.1463868618011475, 2.138982057571411, 2.2007687091827393, 2.163886785507202, 2.158592939376831, 2.1467349529266357, 2.1904571056365967]\n"
          ],
          "name": "stdout"
        }
      ]
    },
    {
      "cell_type": "code",
      "metadata": {
        "id": "TEYkcp3HBRlU",
        "colab": {
          "base_uri": "https://localhost:8080/"
        },
        "outputId": "0fd220f3-c7db-4ad5-8f82-4c78432362e3"
      },
      "source": [
        "times = []\n",
        "\n",
        "validloader = torch.utils.data.DataLoader(\n",
        "    args.valid_set, batch_size=4, \n",
        "    shuffle=False, num_workers=2)\n",
        "\n",
        "for i in range(10):\n",
        "    correct = 0\n",
        "    total = 0\n",
        "    start = time.time()\n",
        "    with torch.no_grad():\n",
        "        for data in validloader:\n",
        "            images, labels = data[0].to(device), data[1].to(device)\n",
        "            outputs = cnn(images)\n",
        "            _, predicted = torch.max(outputs.data, 1)\n",
        "            total += labels.size(0)\n",
        "            correct += (predicted == labels).sum().item()\n",
        "    times.append(time.time() - start)\n",
        "\n",
        "print(\n",
        "    \"Time: %.2f\"\n",
        "    % (np.mean(times))\n",
        ")\n",
        "print(times)"
      ],
      "execution_count": 19,
      "outputs": [
        {
          "output_type": "stream",
          "text": [
            "Time: 12.82\n",
            "[12.99919080734253, 12.933411836624146, 12.848032474517822, 12.74492359161377, 12.79175591468811, 12.752180576324463, 12.73789358139038, 12.793375492095947, 12.803175687789917, 12.817758321762085]\n"
          ],
          "name": "stdout"
        }
      ]
    },
    {
      "cell_type": "code",
      "metadata": {
        "id": "OE21aWiNaZ1a",
        "colab": {
          "base_uri": "https://localhost:8080/"
        },
        "outputId": "3907658c-0b18-4445-a394-59c6e24b7dee"
      },
      "source": [
        "times = []\n",
        "accs = []\n",
        "\n",
        "trainloader = torch.utils.data.DataLoader(\n",
        "    args.train_set, batch_size=args.batch_size, \n",
        "    shuffle=False, num_workers=2)\n",
        "\n",
        "for i in range(10):\n",
        "    correct = 0\n",
        "    total = 0\n",
        "    start = time.time()\n",
        "    with torch.no_grad():\n",
        "        for data in trainloader:\n",
        "            images, labels = data[0].to(device), data[1].to(device)\n",
        "            outputs = cnn(images)\n",
        "            _, predicted = torch.max(outputs.data, 1)\n",
        "            total += labels.size(0)\n",
        "            correct += (predicted == labels).sum().item()\n",
        "    accs.append(correct / total)\n",
        "    times.append(time.time() - start)\n",
        "\n",
        "print('Accuracy of the network on the test images: %.3f%%' % (\n",
        "    100 * np.mean(accs)))\n",
        "print(\n",
        "    \"Time: %.2f\"\n",
        "    % (np.mean(times))\n",
        ")\n",
        "print(times)"
      ],
      "execution_count": 20,
      "outputs": [
        {
          "output_type": "stream",
          "text": [
            "Accuracy of the network on the test images: 99.992%\n",
            "Time: 10.09\n",
            "[10.079372644424438, 10.03999662399292, 10.083541631698608, 10.082176446914673, 10.0529625415802, 10.060648202896118, 10.143961906433105, 10.096526384353638, 10.0717134475708, 10.17516541481018]\n"
          ],
          "name": "stdout"
        }
      ]
    },
    {
      "cell_type": "code",
      "metadata": {
        "id": "WoOZ-sX5BV4H",
        "colab": {
          "base_uri": "https://localhost:8080/"
        },
        "outputId": "d10c54a2-6b60-4607-e49d-05891a298806"
      },
      "source": [
        "times = []\n",
        "\n",
        "trainloader = torch.utils.data.DataLoader(\n",
        "    args.train_set, batch_size=4, \n",
        "    shuffle=False, num_workers=2)\n",
        "\n",
        "for i in range(10):\n",
        "    correct = 0\n",
        "    total = 0\n",
        "    start = time.time()\n",
        "    with torch.no_grad():\n",
        "        for data in trainloader:\n",
        "            images, labels = data[0].to(device), data[1].to(device)\n",
        "            outputs = cnn(images)\n",
        "            _, predicted = torch.max(outputs.data, 1)\n",
        "            total += labels.size(0)\n",
        "            correct += (predicted == labels).sum().item()\n",
        "    times.append(time.time() - start)\n",
        "\n",
        "print(\n",
        "    \"Time: %.2f\"\n",
        "    % (np.mean(times))\n",
        ")\n",
        "print(times)"
      ],
      "execution_count": 21,
      "outputs": [
        {
          "output_type": "stream",
          "text": [
            "Time: 63.84\n",
            "[64.01155710220337, 63.81466197967529, 63.4224066734314, 63.918625593185425, 63.60056972503662, 64.01816940307617, 63.85558748245239, 63.7059588432312, 63.85358166694641, 64.16450119018555]\n"
          ],
          "name": "stdout"
        }
      ]
    }
  ]
}