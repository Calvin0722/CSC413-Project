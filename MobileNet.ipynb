{
  "nbformat": 4,
  "nbformat_minor": 0,
  "metadata": {
    "colab": {
      "name": "MobileNet.ipynb",
      "provenance": [],
      "collapsed_sections": []
    },
    "kernelspec": {
      "name": "python3",
      "display_name": "Python 3"
    },
    "language_info": {
      "name": "python"
    }
  },
  "cells": [
    {
      "cell_type": "code",
      "metadata": {
        "id": "ZwO-EzK_0a2f"
      },
      "source": [
        "import torch\n",
        "from torch import nn\n",
        "import matplotlib.pyplot as plt\n",
        "import torch.nn.functional as F"
      ],
      "execution_count": null,
      "outputs": []
    },
    {
      "cell_type": "code",
      "metadata": {
        "id": "GMuApHLD1u2b"
      },
      "source": [
        "# Depth Wise Separable Convolution\n",
        "# https://discuss.pytorch.org/t/how-to-modify-a-conv2d-to-depthwise-separable-convolution/15843/6\n",
        "class conv_dw(nn.Module):\n",
        "    def __init__(self, in_channels, out_channels, kernel_size, bias=True):\n",
        "        super(conv_dw, self).__init__()\n",
        "        self.depthwise = nn.Conv2d(\n",
        "            in_channels, \n",
        "            out_channels, \n",
        "            kernel_size=kernel_size, \n",
        "            padding=1, \n",
        "            groups=in_channels,\n",
        "            bias=bias\n",
        "            )\n",
        "        self.pointwise = nn.Conv2d(\n",
        "            in_channels, \n",
        "            out_channels, \n",
        "            kernel_size=1,\n",
        "            bias=bias\n",
        "            )\n",
        "\n",
        "    def forward(self, x):\n",
        "        out = self.depthwise(x)\n",
        "        out = self.pointwise(out)\n",
        "        return out"
      ],
      "execution_count": null,
      "outputs": []
    },
    {
      "cell_type": "code",
      "metadata": {
        "id": "nu_lgRb41JFs"
      },
      "source": [
        "class MobileNet(nn.Module):\n",
        "    def __init__(self):\n",
        "        super(Net, self).__init__()\n",
        "        self.conv1 = nn.conv2d()\n",
        "\n",
        "    def forward(self, x):\n",
        "\n",
        "        return x\n"
      ],
      "execution_count": null,
      "outputs": []
    }
  ]
}