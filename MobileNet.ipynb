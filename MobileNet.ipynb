{
  "nbformat": 4,
  "nbformat_minor": 0,
  "metadata": {
    "colab": {
      "name": "MobileNet.ipynb",
      "provenance": [],
      "collapsed_sections": []
    },
    "kernelspec": {
      "name": "python3",
      "display_name": "Python 3"
    },
    "language_info": {
      "name": "python"
    }
  },
  "cells": [
    {
      "cell_type": "code",
      "metadata": {
        "id": "ZwO-EzK_0a2f"
      },
      "source": [
        "import torch\n",
        "from torch import nn\n",
        "import matplotlib.pyplot as plt\n",
        "import torch.nn.functional as F"
      ],
      "execution_count": 2,
      "outputs": []
    },
    {
      "cell_type": "code",
      "metadata": {
        "id": "GMuApHLD1u2b"
      },
      "source": [
        "# Depth Wise Separable Convolution\n",
        "# https://discuss.pytorch.org/t/how-to-modify-a-conv2d-to-depthwise-separable-convolution/15843/6\n",
        "class conv_dw(nn.Module):\n",
        "  def __init__(self, in_channels, out_channels, stride, kernel_size=3, bias=True):\n",
        "    super(conv_dw, self).__init__()\n",
        "    self.depthwise = nn.Conv2d(\n",
        "        in_channels, \n",
        "        out_channels, \n",
        "        stride=stride,\n",
        "        kernel_size=kernel_size, \n",
        "        padding=1, \n",
        "        groups=in_channels,\n",
        "        bias=bias\n",
        "        )\n",
        "    self.pointwise = nn.Conv2d(\n",
        "        in_channels, \n",
        "        out_channels, \n",
        "        kernel_size=1,\n",
        "        bias=bias\n",
        "        )\n",
        "    self.ReLU = nn.ReLU()\n",
        "    self.bn1 = nn.BatchNorm2d(in_channels)\n",
        "    self.bn2 = nn.BatchNorm2d(out_channels)\n",
        "\n",
        "  def forward(self, x):\n",
        "    out = self.depthwise(x)\n",
        "    out = self.bn1(out)\n",
        "    out = self.ReLU(out)\n",
        "    out = self.pointwise(out)\n",
        "    out = self.bn2(out)\n",
        "    out = self.ReLU(out)\n",
        "    return out"
      ],
      "execution_count": 3,
      "outputs": []
    },
    {
      "cell_type": "code",
      "metadata": {
        "id": "nu_lgRb41JFs"
      },
      "source": [
        "class MobileNet(nn.Module):\n",
        "    def __init__(self, in_channel, out_classes):\n",
        "        super(MobileNet, self).__init__()\n",
        "        self.conv_model = nn.Sequential(\n",
        "            nn.Conv2d(in_channel, 32, 3, 2),\n",
        "            nn.BatchNorm2d(32),\n",
        "            nn.ReLU(),\n",
        "            conv_dw(32, 64, 1),\n",
        "            conv_dw(64, 128, 2),\n",
        "            conv_dw(128, 128, 1),\n",
        "            conv_dw(128, 256, 2),\n",
        "            conv_dw(256, 256, 1),\n",
        "            conv_dw(256, 512, 2),\n",
        "            conv_dw(512, 512, 1),\n",
        "            conv_dw(512, 512, 1),\n",
        "            conv_dw(512, 512, 1),\n",
        "            conv_dw(512, 512, 1),\n",
        "            conv_dw(512, 512, 1),\n",
        "            conv_dw(512, 1024, 2),\n",
        "            conv_dw(1024, 1024, 1),\n",
        "            nn.AvgPool2d(7)\n",
        "        )\n",
        "\n",
        "        self.classifer = nn.Sequential(\n",
        "            nn.Linear(1024, out_classes),\n",
        "            nn.Softmax()\n",
        "        )\n",
        "\n",
        "    def forward(self, x):\n",
        "        out = nn.conv_model(x)\n",
        "        out = nn.classifer(out)\n",
        "        return out\n"
      ],
      "execution_count": 6,
      "outputs": []
    }
  ]
}